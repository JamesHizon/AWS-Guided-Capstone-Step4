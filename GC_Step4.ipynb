{
 "cells": [
  {
   "cell_type": "code",
   "execution_count": 1,
   "id": "14f6becc",
   "metadata": {},
   "outputs": [
    {
     "data": {
      "application/vnd.jupyter.widget-view+json": {
       "model_id": "74d13acd85a848f28314cdae8d3d8054",
       "version_major": 2,
       "version_minor": 0
      },
      "text/plain": [
       "VBox()"
      ]
     },
     "metadata": {},
     "output_type": "display_data"
    },
    {
     "name": "stdout",
     "output_type": "stream",
     "text": [
      "Starting Spark application\n"
     ]
    },
    {
     "data": {
      "text/html": [
       "<table>\n",
       "<tr><th>ID</th><th>YARN Application ID</th><th>Kind</th><th>State</th><th>Spark UI</th><th>Driver log</th><th>Current session?</th></tr><tr><td>0</td><td>application_1627403337879_0001</td><td>pyspark</td><td>idle</td><td><a target=\"_blank\" href=\"http://ip-172-31-1-247.ec2.internal:20888/proxy/application_1627403337879_0001/\" class=\"emr-proxy-link\" emr-resource=\"j-1PKVMOHO8MMBF\n",
       "\" application-id=\"application_1627403337879_0001\">Link</a></td><td><a target=\"_blank\" href=\"http://ip-172-31-6-90.ec2.internal:8042/node/containerlogs/container_1627403337879_0001_01_000001/livy\" >Link</a></td><td>✔</td></tr></table>"
      ],
      "text/plain": [
       "<IPython.core.display.HTML object>"
      ]
     },
     "metadata": {},
     "output_type": "display_data"
    },
    {
     "data": {
      "application/vnd.jupyter.widget-view+json": {
       "model_id": "",
       "version_major": 2,
       "version_minor": 0
      },
      "text/plain": [
       "FloatProgress(value=0.0, bar_style='info', description='Progress:', layout=Layout(height='25px', width='50%'),…"
      ]
     },
     "metadata": {},
     "output_type": "display_data"
    },
    {
     "name": "stdout",
     "output_type": "stream",
     "text": [
      "SparkSession available as 'spark'.\n"
     ]
    },
    {
     "data": {
      "application/vnd.jupyter.widget-view+json": {
       "model_id": "",
       "version_major": 2,
       "version_minor": 0
      },
      "text/plain": [
       "FloatProgress(value=0.0, bar_style='info', description='Progress:', layout=Layout(height='25px', width='50%'),…"
      ]
     },
     "metadata": {},
     "output_type": "display_data"
    }
   ],
   "source": [
    "# Import\n",
    "from pyspark.sql import SparkSession"
   ]
  },
  {
   "cell_type": "code",
   "execution_count": 3,
   "id": "f213ad29",
   "metadata": {},
   "outputs": [
    {
     "data": {
      "application/vnd.jupyter.widget-view+json": {
       "model_id": "021f76b3d6ac4bacac712376e6d7d1b4",
       "version_major": 2,
       "version_minor": 0
      },
      "text/plain": [
       "VBox()"
      ]
     },
     "metadata": {},
     "output_type": "display_data"
    },
    {
     "data": {
      "application/vnd.jupyter.widget-view+json": {
       "model_id": "",
       "version_major": 2,
       "version_minor": 0
      },
      "text/plain": [
       "FloatProgress(value=0.0, bar_style='info', description='Progress:', layout=Layout(height='25px', width='50%'),…"
      ]
     },
     "metadata": {},
     "output_type": "display_data"
    }
   ],
   "source": [
    "# Create Spark entry point\n",
    "# spark = SparkSession.builder.enableHiveSupport().appName('Analytical_ETL').getOrCreate()  # Main entry point to Spark cluster\n",
    "# spark.conf.set(\"fs.s3.endpoint\", \"s3-sa-east-1.amazonaws.com\")\n",
    "# sc = spark.sparkContext"
   ]
  },
  {
   "cell_type": "code",
   "execution_count": 2,
   "id": "3bfc007b",
   "metadata": {},
   "outputs": [
    {
     "data": {
      "application/vnd.jupyter.widget-view+json": {
       "model_id": "787b15a510ce441b828d5131ecdc53cb",
       "version_major": 2,
       "version_minor": 0
      },
      "text/plain": [
       "VBox()"
      ]
     },
     "metadata": {},
     "output_type": "display_data"
    },
    {
     "data": {
      "application/vnd.jupyter.widget-view+json": {
       "model_id": "",
       "version_major": 2,
       "version_minor": 0
      },
      "text/plain": [
       "FloatProgress(value=0.0, bar_style='info', description='Progress:', layout=Layout(height='25px', width='50%'),…"
      ]
     },
     "metadata": {},
     "output_type": "display_data"
    }
   ],
   "source": [
    "# Create Spark entry point\n",
    "spark = SparkSession.builder.appName('Analytical_ETL').getOrCreate()  # Main entry point to Spark cluster\n",
    "spark.conf.set(\"fs.s3.endpoint\", \"s3-sa-east-1.amazonaws.com\")\n",
    "sc = spark.sparkContext"
   ]
  },
  {
   "cell_type": "markdown",
   "id": "d9c8617a",
   "metadata": {},
   "source": [
    "# Read and Process Most Recent Trade Data"
   ]
  },
  {
   "cell_type": "code",
   "execution_count": 3,
   "id": "1393cf9f",
   "metadata": {},
   "outputs": [
    {
     "data": {
      "application/vnd.jupyter.widget-view+json": {
       "model_id": "3d1fdd4d04a548939b8d3dadfc6a6a45",
       "version_major": 2,
       "version_minor": 0
      },
      "text/plain": [
       "VBox()"
      ]
     },
     "metadata": {},
     "output_type": "display_data"
    },
    {
     "data": {
      "application/vnd.jupyter.widget-view+json": {
       "model_id": "",
       "version_major": 2,
       "version_minor": 0
      },
      "text/plain": [
       "FloatProgress(value=0.0, bar_style='info', description='Progress:', layout=Layout(height='25px', width='50%'),…"
      ]
     },
     "metadata": {},
     "output_type": "display_data"
    },
    {
     "name": "stdout",
     "output_type": "stream",
     "text": [
      "Row(trade_dt='2020-08-06', symbol='SYMA', exchange='NYSE', event_tm='2020-08-06 09:30:00.0', event_seq_nb='10', trade_pr=74.49, max_arrival_tm=datetime.datetime(2020, 8, 6, 10, 49, 37, 345000))"
     ]
    }
   ],
   "source": [
    "# Read Parquet Files From AWS S3 bucket\n",
    "trades_df = spark.read.parquet(\"s3://guidedcapstonebucket2/e-KLOB2DYT8G9BGL5F8PJ9LXKJ/Ingested_CSV_Files/All_Ingested_CSV_Files_2/trade/trade_dt2=2020-08-06\")\n",
    "trades_df.head()"
   ]
  },
  {
   "cell_type": "code",
   "execution_count": 4,
   "id": "5b956396",
   "metadata": {},
   "outputs": [
    {
     "data": {
      "application/vnd.jupyter.widget-view+json": {
       "model_id": "ef61b5ca3496407cb68c1ffc3dc9289a",
       "version_major": 2,
       "version_minor": 0
      },
      "text/plain": [
       "VBox()"
      ]
     },
     "metadata": {},
     "output_type": "display_data"
    },
    {
     "data": {
      "application/vnd.jupyter.widget-view+json": {
       "model_id": "",
       "version_major": 2,
       "version_minor": 0
      },
      "text/plain": [
       "FloatProgress(value=0.0, bar_style='info', description='Progress:', layout=Layout(height='25px', width='50%'),…"
      ]
     },
     "metadata": {},
     "output_type": "display_data"
    },
    {
     "name": "stdout",
     "output_type": "stream",
     "text": [
      "Row(trade_dt='2020-08-06', symbol='SYMA', exchange='NYSE', event_tm='2020-08-06 09:30:00.0', event_seq_nb='10', trade_pr=74.49)"
     ]
    }
   ],
   "source": [
    "# Create temporary view of parquet files as \"trades\" table for next step\n",
    "trades_df.createOrReplaceTempView(\"trades\")\n",
    "\n",
    "# Create Trade Staging Table --> Update prior script so we can update our files.\n",
    "tmp_trade_ma_df = spark.sql(\"select trade_dt, symbol, exchange, event_tm, event_seq_nb, trade_pr from trades where trade_dt = '2020-08-06'\")\n",
    "\n",
    "# Create Spark Temp View\n",
    "tmp_trade_ma_df.createOrReplaceTempView(\"tmp_trade_moving_avg\")\n",
    "\n",
    "# Show head\n",
    "tmp_trade_ma_df.head()"
   ]
  },
  {
   "cell_type": "code",
   "execution_count": null,
   "id": "98c82cd2",
   "metadata": {},
   "outputs": [],
   "source": [
    "# DROP HIVE TABLE IF EXISTS\n",
    "spark.sql(\"DROP TABLE IF EXISTS temp_trade_moving_avg\")"
   ]
  },
  {
   "cell_type": "code",
   "execution_count": 8,
   "id": "aa79c432",
   "metadata": {},
   "outputs": [
    {
     "data": {
      "application/vnd.jupyter.widget-view+json": {
       "model_id": "ab97d6b34fdc454286130e8efb61cf13",
       "version_major": 2,
       "version_minor": 0
      },
      "text/plain": [
       "VBox()"
      ]
     },
     "metadata": {},
     "output_type": "display_data"
    },
    {
     "data": {
      "application/vnd.jupyter.widget-view+json": {
       "model_id": "",
       "version_major": 2,
       "version_minor": 0
      },
      "text/plain": [
       "FloatProgress(value=0.0, bar_style='info', description='Progress:', layout=Layout(height='25px', width='50%'),…"
      ]
     },
     "metadata": {},
     "output_type": "display_data"
    },
    {
     "name": "stdout",
     "output_type": "stream",
     "text": [
      "Row(trade_dt='2020-08-06', symbol='SYMA', exchange='NYSE', event_tm='2020-08-06 09:30:00.0', event_seq_nb='10', trade_pr=74.49, mov_avg_pr=76.61399999999999)"
     ]
    }
   ],
   "source": [
    "# Create mov_avg df\n",
    "mov_avg_df = spark.sql(\"\"\"\n",
    "    select trade_dt, symbol, exchange, event_tm, event_seq_nb, trade_pr,\n",
    "    AVG(trade_pr) OVER (PARTITION BY (symbol)\n",
    "    ORDER BY CAST(event_tm AS timestamp) \n",
    "    RANGE BETWEEN INTERVAL 30 MINUTES PRECEDING AND CURRENT ROW) as mov_avg_pr    \n",
    "    from tmp_trade_moving_avg\"\"\")\n",
    "\n",
    "# Save Temp View -> Hive Table for Staging\n",
    "mov_avg_df.write.saveAsTable(\"temp_trade_moving_avg\")\n",
    "\n",
    "# Show head\n",
    "mov_avg_df.head()"
   ]
  },
  {
   "cell_type": "code",
   "execution_count": 6,
   "id": "a70aea3b",
   "metadata": {},
   "outputs": [
    {
     "data": {
      "application/vnd.jupyter.widget-view+json": {
       "model_id": "3905d90cca21488ab693006516d4bdb6",
       "version_major": 2,
       "version_minor": 0
      },
      "text/plain": [
       "VBox()"
      ]
     },
     "metadata": {},
     "output_type": "display_data"
    },
    {
     "data": {
      "application/vnd.jupyter.widget-view+json": {
       "model_id": "",
       "version_major": 2,
       "version_minor": 0
      },
      "text/plain": [
       "FloatProgress(value=0.0, bar_style='info', description='Progress:', layout=Layout(height='25px', width='50%'),…"
      ]
     },
     "metadata": {},
     "output_type": "display_data"
    },
    {
     "name": "stdout",
     "output_type": "stream",
     "text": [
      "DataFrame[]"
     ]
    }
   ],
   "source": []
  },
  {
   "cell_type": "code",
   "execution_count": 7,
   "id": "e6d317e4",
   "metadata": {},
   "outputs": [
    {
     "data": {
      "application/vnd.jupyter.widget-view+json": {
       "model_id": "0a80050e25074d0c9dadc1ed7876115a",
       "version_major": 2,
       "version_minor": 0
      },
      "text/plain": [
       "VBox()"
      ]
     },
     "metadata": {},
     "output_type": "display_data"
    },
    {
     "data": {
      "application/vnd.jupyter.widget-view+json": {
       "model_id": "",
       "version_major": 2,
       "version_minor": 0
      },
      "text/plain": [
       "FloatProgress(value=0.0, bar_style='info', description='Progress:', layout=Layout(height='25px', width='50%'),…"
      ]
     },
     "metadata": {},
     "output_type": "display_data"
    },
    {
     "name": "stdout",
     "output_type": "stream",
     "text": [
      "+----------+------+--------+--------------------+------------+--------+----------+\n",
      "|  trade_dt|symbol|exchange|            event_tm|event_seq_nb|trade_pr|mov_avg_pr|\n",
      "+----------+------+--------+--------------------+------------+--------+----------+\n",
      "|2020-08-06|  SYMA|    NYSE|2020-08-06 09:30:...|          10|   74.49|    76.614|\n",
      "|2020-08-06|  SYMA|    NYSE|2020-08-06 09:30:...|         100|   76.31|    76.614|\n",
      "|2020-08-06|  SYMA|    NYSE|2020-08-06 09:30:...|          90|   75.71|    76.614|\n",
      "|2020-08-06|  SYMA|    NYSE|2020-08-06 09:30:...|          40|   77.12|    76.614|\n",
      "|2020-08-06|  SYMA|    NYSE|2020-08-06 09:30:...|          70|   78.23|    76.614|\n",
      "+----------+------+--------+--------------------+------------+--------+----------+\n",
      "only showing top 5 rows"
     ]
    }
   ],
   "source": [
    "# One more test\n",
    "\n",
    "mov_avg_df.show(5)"
   ]
  },
  {
   "cell_type": "markdown",
   "id": "d2c0e8a9",
   "metadata": {},
   "source": [
    "# Process Previous Trades Data"
   ]
  },
  {
   "cell_type": "code",
   "execution_count": 9,
   "id": "0db829e7",
   "metadata": {},
   "outputs": [
    {
     "data": {
      "application/vnd.jupyter.widget-view+json": {
       "model_id": "ca4a383747cd49f798329caade9e9ba2",
       "version_major": 2,
       "version_minor": 0
      },
      "text/plain": [
       "VBox()"
      ]
     },
     "metadata": {},
     "output_type": "display_data"
    },
    {
     "data": {
      "application/vnd.jupyter.widget-view+json": {
       "model_id": "",
       "version_major": 2,
       "version_minor": 0
      },
      "text/plain": [
       "FloatProgress(value=0.0, bar_style='info', description='Progress:', layout=Layout(height='25px', width='50%'),…"
      ]
     },
     "metadata": {},
     "output_type": "display_data"
    },
    {
     "name": "stdout",
     "output_type": "stream",
     "text": [
      "Row(trade_dt='2020-08-05', symbol='SYMA', exchange='NYSE', event_tm='2020-08-05 09:30:00.0', event_seq_nb='100', trade_pr=77.79, max_arrival_tm=datetime.datetime(2020, 8, 5, 21, 30, 19, 773000))"
     ]
    }
   ],
   "source": [
    "# Get Previous Date Value\n",
    "prev_date_str = \"2020-08-05\"\n",
    "\n",
    "# Read previous trades data using Spark\n",
    "prev_trades_df = spark.read.parquet(f\"s3://guidedcapstonebucket2/e-KLOB2DYT8G9BGL5F8PJ9LXKJ/Ingested_CSV_Files/All_Ingested_CSV_Files_2/trade/trade_dt2={prev_date_str}\")\n",
    "\n",
    "# Show head\n",
    "prev_trades_df.head()"
   ]
  },
  {
   "cell_type": "code",
   "execution_count": 10,
   "id": "42a95f8f",
   "metadata": {},
   "outputs": [
    {
     "data": {
      "application/vnd.jupyter.widget-view+json": {
       "model_id": "03f05db673ab4af4bb09a51628f4bcc1",
       "version_major": 2,
       "version_minor": 0
      },
      "text/plain": [
       "VBox()"
      ]
     },
     "metadata": {},
     "output_type": "display_data"
    },
    {
     "data": {
      "application/vnd.jupyter.widget-view+json": {
       "model_id": "",
       "version_major": 2,
       "version_minor": 0
      },
      "text/plain": [
       "FloatProgress(value=0.0, bar_style='info', description='Progress:', layout=Layout(height='25px', width='50%'),…"
      ]
     },
     "metadata": {},
     "output_type": "display_data"
    },
    {
     "name": "stdout",
     "output_type": "stream",
     "text": [
      "Row(trade_dt='2020-08-05', symbol='SYMA', exchange='NYSE', event_tm='2020-08-05 09:30:00.0', event_seq_nb='100', trade_pr=77.79)"
     ]
    }
   ],
   "source": [
    "# Create temporary view of parquet files as \"trades\" table for next step\n",
    "prev_trades_df.createOrReplaceTempView(\"prev_trades\")\n",
    "\n",
    "# Use Spark to read trade table w/ date partition (trade_dt=\"2020-07-28\") --> This is how we filter for \"last\" trade price.\n",
    "tmp_last_trade_df = spark.sql(f\"select trade_dt, symbol, exchange, event_tm, event_seq_nb, trade_pr from prev_trades where trade_dt = '{prev_date_str}'\")\n",
    "\n",
    "# Show head\n",
    "tmp_last_trade_df.head()"
   ]
  },
  {
   "cell_type": "code",
   "execution_count": 11,
   "id": "0c91b92f",
   "metadata": {},
   "outputs": [
    {
     "data": {
      "application/vnd.jupyter.widget-view+json": {
       "model_id": "22e41c1db19d42379f9d72510397f5ab",
       "version_major": 2,
       "version_minor": 0
      },
      "text/plain": [
       "VBox()"
      ]
     },
     "metadata": {},
     "output_type": "display_data"
    },
    {
     "data": {
      "application/vnd.jupyter.widget-view+json": {
       "model_id": "",
       "version_major": 2,
       "version_minor": 0
      },
      "text/plain": [
       "FloatProgress(value=0.0, bar_style='info', description='Progress:', layout=Layout(height='25px', width='50%'),…"
      ]
     },
     "metadata": {},
     "output_type": "display_data"
    },
    {
     "name": "stdout",
     "output_type": "stream",
     "text": [
      "Row(trade_dt='2020-08-06', symbol='SYMA', exchange='NYSE', event_tm='2020-08-06 09:30:00.0', event_seq_nb='30', last_pr=76.614)"
     ]
    }
   ],
   "source": [
    "# Create Spark Temporary View\n",
    "tmp_last_trade_df.createOrReplaceTempView(\"tmp_last_trade\")\n",
    "\n",
    "# Calculate Last Trade Price Using Spark Temp View\n",
    "last_trade_ma_df = spark.sql(\"\"\"select a.trade_dt, a.symbol, a.exchange, a.event_tm, \n",
    "a.event_seq_nb, a.last_pr from \n",
    "(select trade_dt, symbol, exchange, event_tm, event_seq_nb, trade_pr,\n",
    "AVG(trade_pr)\n",
    "OVER (PARTITION BY (symbol)\n",
    "ORDER BY CAST(event_tm as timestamp) \n",
    "RANGE BETWEEN INTERVAL 30 MINUTES PRECEDING AND CURRENT ROW) as last_pr\n",
    "FROM tmp_trade_moving_avg) a\n",
    "\"\"\")\n",
    "\n",
    "# Save Temp View Into Hive Table For Staging\n",
    "last_trade_ma_df.write.saveAsTable(\"temp_last_trade\")\n",
    "\n",
    "# Show head\n",
    "last_trade_ma_df.head()"
   ]
  },
  {
   "cell_type": "markdown",
   "id": "dfce42b0",
   "metadata": {},
   "source": [
    "# Populate The Latest Trade and Latest Moving Average Trade Price To The Quote Records"
   ]
  },
  {
   "cell_type": "code",
   "execution_count": 12,
   "id": "6d45615b",
   "metadata": {},
   "outputs": [
    {
     "data": {
      "application/vnd.jupyter.widget-view+json": {
       "model_id": "6a0fa321637b489192fe273a47c2254b",
       "version_major": 2,
       "version_minor": 0
      },
      "text/plain": [
       "VBox()"
      ]
     },
     "metadata": {},
     "output_type": "display_data"
    },
    {
     "data": {
      "application/vnd.jupyter.widget-view+json": {
       "model_id": "",
       "version_major": 2,
       "version_minor": 0
      },
      "text/plain": [
       "FloatProgress(value=0.0, bar_style='info', description='Progress:', layout=Layout(height='25px', width='50%'),…"
      ]
     },
     "metadata": {},
     "output_type": "display_data"
    }
   ],
   "source": [
    "# First, create temporary view of our data.\n",
    "quotes_df = spark.read.parquet(\"s3://guidedcapstonebucket2/e-KLOB2DYT8G9BGL5F8PJ9LXKJ/Ingested_CSV_Files/All_Ingested_CSV_Files_2/quote/trade_dt2=2020-08-06\")\n",
    "# Note that I have quote_dt, even though it should be trade_dt.\n",
    "quotes_df.createOrReplaceTempView(\"quotes\")"
   ]
  },
  {
   "cell_type": "code",
   "execution_count": 13,
   "id": "8796fd9c",
   "metadata": {},
   "outputs": [
    {
     "data": {
      "application/vnd.jupyter.widget-view+json": {
       "model_id": "e2ead4fd50b24b0d9ad2c25e38235e49",
       "version_major": 2,
       "version_minor": 0
      },
      "text/plain": [
       "VBox()"
      ]
     },
     "metadata": {},
     "output_type": "display_data"
    },
    {
     "data": {
      "application/vnd.jupyter.widget-view+json": {
       "model_id": "",
       "version_major": 2,
       "version_minor": 0
      },
      "text/plain": [
       "FloatProgress(value=0.0, bar_style='info', description='Progress:', layout=Layout(height='25px', width='50%'),…"
      ]
     },
     "metadata": {},
     "output_type": "display_data"
    },
    {
     "name": "stdout",
     "output_type": "stream",
     "text": [
      "Row(trade_dt='2020-08-06', symbol='SYMC', exchange='NYSE', event_tm='2020-08-06 09:30:00.0', event_seq_nb='13', trade_pr='-', max_arrival_tm=datetime.datetime(2020, 8, 6, 11, 2, 58, 675000), rec_type='Q', arrival_tm='2020-08-06 11:02:58.675', bid_pr='158.03838165179127', bid_size='100', ask_pr='158.5695078200935', ask_size='100', execution_id='NA', trade_size='NA')"
     ]
    }
   ],
   "source": [
    "quotes_df.head()"
   ]
  },
  {
   "cell_type": "code",
   "execution_count": 15,
   "id": "ec65a1b7",
   "metadata": {},
   "outputs": [
    {
     "data": {
      "application/vnd.jupyter.widget-view+json": {
       "model_id": "1e0b34e88e50440b9c227d1fa89c429f",
       "version_major": 2,
       "version_minor": 0
      },
      "text/plain": [
       "VBox()"
      ]
     },
     "metadata": {},
     "output_type": "display_data"
    },
    {
     "data": {
      "application/vnd.jupyter.widget-view+json": {
       "model_id": "",
       "version_major": 2,
       "version_minor": 0
      },
      "text/plain": [
       "FloatProgress(value=0.0, bar_style='info', description='Progress:', layout=Layout(height='25px', width='50%'),…"
      ]
     },
     "metadata": {},
     "output_type": "display_data"
    }
   ],
   "source": [
    "# Test and show quotes_df\n",
    "# quotes_df_all = spark.sql(\"\"\"SELECT * FROM quotes\"\"\")\n",
    "# quotes_df_all.show()"
   ]
  },
  {
   "cell_type": "code",
   "execution_count": 16,
   "id": "904c38ff",
   "metadata": {},
   "outputs": [
    {
     "data": {
      "application/vnd.jupyter.widget-view+json": {
       "model_id": "435b334f40ce43008db94df2818dce0e",
       "version_major": 2,
       "version_minor": 0
      },
      "text/plain": [
       "VBox()"
      ]
     },
     "metadata": {},
     "output_type": "display_data"
    },
    {
     "data": {
      "application/vnd.jupyter.widget-view+json": {
       "model_id": "",
       "version_major": 2,
       "version_minor": 0
      },
      "text/plain": [
       "FloatProgress(value=0.0, bar_style='info', description='Progress:', layout=Layout(height='25px', width='50%'),…"
      ]
     },
     "metadata": {},
     "output_type": "display_data"
    }
   ],
   "source": [
    "# Test and show all from temp_trade_moving_avg\n",
    "# quotes_df_all = spark.sql(\"\"\"SELECT * FROM temp_trade_moving_avg\"\"\")\n",
    "# quotes_df_all.show()"
   ]
  },
  {
   "cell_type": "markdown",
   "id": "d6f5fea4",
   "metadata": {},
   "source": [
    "# I need to re-do Step 2 s.t. I have all of my necessary data so I can take bid_pr, ..., ask_size."
   ]
  },
  {
   "cell_type": "code",
   "execution_count": 35,
   "id": "12c411b7",
   "metadata": {},
   "outputs": [
    {
     "data": {
      "application/vnd.jupyter.widget-view+json": {
       "model_id": "6779f07dd7924761a7b2e4ef45c91cfc",
       "version_major": 2,
       "version_minor": 0
      },
      "text/plain": [
       "VBox()"
      ]
     },
     "metadata": {},
     "output_type": "display_data"
    },
    {
     "data": {
      "application/vnd.jupyter.widget-view+json": {
       "model_id": "",
       "version_major": 2,
       "version_minor": 0
      },
      "text/plain": [
       "FloatProgress(value=0.0, bar_style='info', description='Progress:', layout=Layout(height='25px', width='50%'),…"
      ]
     },
     "metadata": {},
     "output_type": "display_data"
    },
    {
     "name": "stdout",
     "output_type": "stream",
     "text": [
      "Row(bid_pr='158.03838165179127', trade_pr='-')"
     ]
    }
   ],
   "source": [
    "quotes_df2 = spark.sql(\"\"\"\n",
    "SELECT bid_pr, trade_pr FROM quotes\n",
    "\"\"\")\n",
    "quotes_df2.head()"
   ]
  },
  {
   "cell_type": "code",
   "execution_count": 15,
   "id": "d3899562",
   "metadata": {},
   "outputs": [
    {
     "data": {
      "application/vnd.jupyter.widget-view+json": {
       "model_id": "0001751c88024a3c80f291bb6d12c1cd",
       "version_major": 2,
       "version_minor": 0
      },
      "text/plain": [
       "VBox()"
      ]
     },
     "metadata": {},
     "output_type": "display_data"
    },
    {
     "data": {
      "application/vnd.jupyter.widget-view+json": {
       "model_id": "",
       "version_major": 2,
       "version_minor": 0
      },
      "text/plain": [
       "FloatProgress(value=0.0, bar_style='info', description='Progress:', layout=Layout(height='25px', width='50%'),…"
      ]
     },
     "metadata": {},
     "output_type": "display_data"
    },
    {
     "name": "stdout",
     "output_type": "stream",
     "text": [
      "+----------+--------+------+--------------------+------------+--------+------------------+--------+------------------+--------+--------+----------+\n",
      "|  trade_dt|rec_type|symbol|            event_tm|event_seq_nb|exchange|            bid_pr|bid_size|            ask_pr|ask_size|trade_pr|mov_avg_pr|\n",
      "+----------+--------+------+--------------------+------------+--------+------------------+--------+------------------+--------+--------+----------+\n",
      "|2020-08-06|       Q|  SYMC|2020-08-06 09:30:...|          13|    NYSE|158.03838165179127|     100| 158.5695078200935|     100|    null|      null|\n",
      "|2020-08-06|       Q|  SYMC|2020-08-06 09:30:...|          32|    NYSE|157.71166149994355|     100|159.34694545037547|     100|    null|      null|\n",
      "|2020-08-06|       Q|  SYMC|2020-08-06 09:30:...|          99|    NYSE|159.50664417328284|     100|  159.708657615948|     100|    null|      null|\n",
      "|2020-08-06|       Q|  SYMC|2020-08-06 09:30:...|          64|    NYSE|159.68220039818317|     100|160.06463404888194|     100|    null|      null|\n",
      "|2020-08-06|       Q|  SYMB|2020-08-06 09:30:...|          55|    NYSE| 34.62026368565802|     100| 36.51439217511288|     100|    null|      null|\n",
      "|2020-08-06|       Q|  SYMC|2020-08-06 09:30:...|          17|    NYSE|161.30848030400455|     100|163.20560479106038|     100|    null|      null|\n",
      "|2020-08-06|       Q|  SYMB|2020-08-06 09:30:...|          67|    NYSE|35.655718534490155|     100| 36.94651146357889|     100|    null|      null|\n",
      "|2020-08-06|       Q|  SYMA|2020-08-06 09:30:...|          51|    NYSE| 78.20019031517049|     100| 80.11614085947541|     100|    null|      null|\n",
      "|2020-08-06|       Q|  SYMA|2020-08-06 09:30:...|          46|    NYSE| 76.39780084178598|     100| 78.06379554173964|     100|    null|      null|\n",
      "|2020-08-06|       Q|  SYMA|2020-08-06 09:30:...|          39|    NYSE| 75.43854142558534|     100|  75.5964366393803|     100|    null|      null|\n",
      "|2020-08-06|       Q|  SYMA|2020-08-06 09:30:...|          19|    NYSE| 77.16183221927379|     100| 78.59092887559557|     100|    null|      null|\n",
      "|2020-08-06|       Q|  SYMB|2020-08-06 09:30:...|          36|    NYSE|32.383061847257956|     100|34.087731227005456|     100|    null|      null|\n",
      "|2020-08-06|       Q|  SYMC|2020-08-06 09:30:...|          61|    NYSE|158.14118627542456|     100|158.68661023015503|     100|    null|      null|\n",
      "|2020-08-06|       Q|  SYMC|2020-08-06 09:30:...|          45|    NYSE|157.16514930123427|     100|157.25003783784564|     100|    null|      null|\n",
      "|2020-08-06|       Q|  SYMC|2020-08-06 09:30:...|          73|    NYSE|159.26206859310858|     100|161.02055215286416|     100|    null|      null|\n",
      "|2020-08-06|       Q|  SYMB|2020-08-06 09:30:...|          72|    NYSE| 33.70023220955683|     100| 33.74465952681078|     100|    null|      null|\n",
      "|2020-08-06|       Q|  SYMB|2020-08-06 09:30:...|          58|    NYSE| 35.15626444829849|     100| 35.48117681969893|     100|    null|      null|\n",
      "|2020-08-06|       Q|  SYMC|2020-08-06 09:30:...|          47|    NYSE|158.40560932179685|     100|158.80118915911254|     100|    null|      null|\n",
      "|2020-08-06|       Q|  SYMC|2020-08-06 09:30:...|          34|    NYSE|159.70300113654528|     100|161.58322669601077|     100|    null|      null|\n",
      "|2020-08-06|       Q|  SYMA|2020-08-06 09:30:...|          43|    NYSE| 74.75747167270546|     100| 74.99914520482766|     100|    null|      null|\n",
      "+----------+--------+------+--------------------+------------+--------+------------------+--------+------------------+--------+--------+----------+\n",
      "only showing top 20 rows"
     ]
    }
   ],
   "source": [
    "# Now, create Spark SQL statement to union data from both temp views of data\n",
    "\n",
    "quote_union = spark.sql(\"\"\"\n",
    "SELECT trade_dt,rec_type,symbol,event_tm,event_seq_nb,exchange,bid_pr,bid_size,ask_pr,\n",
    "ask_size,null as trade_pr,null as mov_avg_pr FROM quotes\n",
    "UNION ALL\n",
    "SELECT trade_dt, \"T\" as rec_type,symbol,event_tm,event_seq_nb,exchange,null as bid_pr,null as bid_size,null as ask_pr,\n",
    "null as ask_size,trade_pr,mov_avg_pr FROM temp_trade_moving_avg\n",
    "\"\"\")\n",
    "\n",
    "quote_union.createOrReplaceTempView(\"quote_union\")\n",
    "\n",
    "# Show df\n",
    "quote_union.show()"
   ]
  },
  {
   "cell_type": "code",
   "execution_count": 42,
   "id": "e59f2872",
   "metadata": {},
   "outputs": [
    {
     "data": {
      "application/vnd.jupyter.widget-view+json": {
       "model_id": "5788f697618444dea4f9a257d48fb0bf",
       "version_major": 2,
       "version_minor": 0
      },
      "text/plain": [
       "VBox()"
      ]
     },
     "metadata": {},
     "output_type": "display_data"
    },
    {
     "data": {
      "application/vnd.jupyter.widget-view+json": {
       "model_id": "",
       "version_major": 2,
       "version_minor": 0
      },
      "text/plain": [
       "FloatProgress(value=0.0, bar_style='info', description='Progress:', layout=Layout(height='25px', width='50%'),…"
      ]
     },
     "metadata": {},
     "output_type": "display_data"
    },
    {
     "name": "stdout",
     "output_type": "stream",
     "text": [
      "+----------+--------+------+--------------------+------------+--------+------------------+--------+------------------+--------+--------+----------+\n",
      "|  trade_dt|rec_type|symbol|            event_tm|event_seq_nb|exchange|            bid_pr|bid_size|            ask_pr|ask_size|trade_pr|mov_avg_pr|\n",
      "+----------+--------+------+--------------------+------------+--------+------------------+--------+------------------+--------+--------+----------+\n",
      "|2020-08-06|       Q|  SYMC|2020-08-06 09:30:...|          13|    NYSE|158.03838165179127|     100| 158.5695078200935|     100|    null|      null|\n",
      "|2020-08-06|       Q|  SYMC|2020-08-06 09:30:...|          32|    NYSE|157.71166149994355|     100|159.34694545037547|     100|    null|      null|\n",
      "|2020-08-06|       Q|  SYMC|2020-08-06 09:30:...|          99|    NYSE|159.50664417328284|     100|  159.708657615948|     100|    null|      null|\n",
      "|2020-08-06|       Q|  SYMC|2020-08-06 09:30:...|          64|    NYSE|159.68220039818317|     100|160.06463404888194|     100|    null|      null|\n",
      "|2020-08-06|       Q|  SYMB|2020-08-06 09:30:...|          55|    NYSE| 34.62026368565802|     100| 36.51439217511288|     100|    null|      null|\n",
      "|2020-08-06|       Q|  SYMC|2020-08-06 09:30:...|          17|    NYSE|161.30848030400455|     100|163.20560479106038|     100|    null|      null|\n",
      "|2020-08-06|       Q|  SYMB|2020-08-06 09:30:...|          67|    NYSE|35.655718534490155|     100| 36.94651146357889|     100|    null|      null|\n",
      "|2020-08-06|       Q|  SYMA|2020-08-06 09:30:...|          51|    NYSE| 78.20019031517049|     100| 80.11614085947541|     100|    null|      null|\n",
      "|2020-08-06|       Q|  SYMA|2020-08-06 09:30:...|          46|    NYSE| 76.39780084178598|     100| 78.06379554173964|     100|    null|      null|\n",
      "|2020-08-06|       Q|  SYMA|2020-08-06 09:30:...|          39|    NYSE| 75.43854142558534|     100|  75.5964366393803|     100|    null|      null|\n",
      "|2020-08-06|       Q|  SYMA|2020-08-06 09:30:...|          19|    NYSE| 77.16183221927379|     100| 78.59092887559557|     100|    null|      null|\n",
      "|2020-08-06|       Q|  SYMB|2020-08-06 09:30:...|          36|    NYSE|32.383061847257956|     100|34.087731227005456|     100|    null|      null|\n",
      "|2020-08-06|       Q|  SYMC|2020-08-06 09:30:...|          61|    NYSE|158.14118627542456|     100|158.68661023015503|     100|    null|      null|\n",
      "|2020-08-06|       Q|  SYMC|2020-08-06 09:30:...|          45|    NYSE|157.16514930123427|     100|157.25003783784564|     100|    null|      null|\n",
      "|2020-08-06|       Q|  SYMC|2020-08-06 09:30:...|          73|    NYSE|159.26206859310858|     100|161.02055215286416|     100|    null|      null|\n",
      "|2020-08-06|       Q|  SYMB|2020-08-06 09:30:...|          72|    NYSE| 33.70023220955683|     100| 33.74465952681078|     100|    null|      null|\n",
      "|2020-08-06|       Q|  SYMB|2020-08-06 09:30:...|          58|    NYSE| 35.15626444829849|     100| 35.48117681969893|     100|    null|      null|\n",
      "|2020-08-06|       Q|  SYMC|2020-08-06 09:30:...|          47|    NYSE|158.40560932179685|     100|158.80118915911254|     100|    null|      null|\n",
      "|2020-08-06|       Q|  SYMC|2020-08-06 09:30:...|          34|    NYSE|159.70300113654528|     100|161.58322669601077|     100|    null|      null|\n",
      "|2020-08-06|       Q|  SYMA|2020-08-06 09:30:...|          43|    NYSE| 74.75747167270546|     100| 74.99914520482766|     100|    null|      null|\n",
      "+----------+--------+------+--------------------+------------+--------+------------------+--------+------------------+--------+--------+----------+\n",
      "only showing top 20 rows"
     ]
    }
   ],
   "source": [
    "# Quote Union Test 1\n",
    "test_quote_union_df1 = spark.sql(\"\"\"\n",
    "SELECT trade_dt,rec_type,symbol,event_tm,event_seq_nb,exchange,bid_pr,bid_size,ask_pr,\n",
    "ask_size,null as trade_pr,null as mov_avg_pr FROM quotes\"\"\")\n",
    "test_quote_union_df1.show()"
   ]
  },
  {
   "cell_type": "code",
   "execution_count": 41,
   "id": "1f56ed1f",
   "metadata": {},
   "outputs": [
    {
     "data": {
      "application/vnd.jupyter.widget-view+json": {
       "model_id": "21c96750788a4b39a3d2a31a6aa08187",
       "version_major": 2,
       "version_minor": 0
      },
      "text/plain": [
       "VBox()"
      ]
     },
     "metadata": {},
     "output_type": "display_data"
    },
    {
     "data": {
      "application/vnd.jupyter.widget-view+json": {
       "model_id": "",
       "version_major": 2,
       "version_minor": 0
      },
      "text/plain": [
       "FloatProgress(value=0.0, bar_style='info', description='Progress:', layout=Layout(height='25px', width='50%'),…"
      ]
     },
     "metadata": {},
     "output_type": "display_data"
    },
    {
     "name": "stdout",
     "output_type": "stream",
     "text": [
      "+----------+--------+------+--------------------+------------+--------+------+--------+------+--------+--------+----------+\n",
      "|  trade_dt|rec_type|symbol|            event_tm|event_seq_nb|exchange|bid_pr|bid_size|ask_pr|ask_size|trade_pr|mov_avg_pr|\n",
      "+----------+--------+------+--------------------+------------+--------+------+--------+------+--------+--------+----------+\n",
      "|2020-08-06|       T|  SYMA|2020-08-06 09:30:...|          10|    NYSE|  null|    null|  null|    null|   74.49|    76.614|\n",
      "|2020-08-06|       T|  SYMA|2020-08-06 09:30:...|         100|    NYSE|  null|    null|  null|    null|   76.31|    76.614|\n",
      "|2020-08-06|       T|  SYMA|2020-08-06 09:30:...|          90|    NYSE|  null|    null|  null|    null|   75.71|    76.614|\n",
      "|2020-08-06|       T|  SYMA|2020-08-06 09:30:...|          40|    NYSE|  null|    null|  null|    null|   77.12|    76.614|\n",
      "|2020-08-06|       T|  SYMA|2020-08-06 09:30:...|          70|    NYSE|  null|    null|  null|    null|   78.23|    76.614|\n",
      "|2020-08-06|       T|  SYMA|2020-08-06 09:30:...|          20|    NYSE|  null|    null|  null|    null|   76.16|    76.614|\n",
      "|2020-08-06|       T|  SYMA|2020-08-06 09:30:...|          50|    NYSE|  null|    null|  null|    null|   76.37|    76.614|\n",
      "|2020-08-06|       T|  SYMA|2020-08-06 09:30:...|          60|    NYSE|  null|    null|  null|    null|   78.32|    76.614|\n",
      "|2020-08-06|       T|  SYMA|2020-08-06 09:30:...|          30|    NYSE|  null|    null|  null|    null|    76.9|    76.614|\n",
      "|2020-08-06|       T|  SYMA|2020-08-06 09:30:...|          80|    NYSE|  null|    null|  null|    null|   76.53|    76.614|\n",
      "|2020-08-06|       T|  SYMC|2020-08-06 09:30:...|          30|    NYSE|  null|    null|  null|    null|  158.06|   159.442|\n",
      "|2020-08-06|       T|  SYMC|2020-08-06 09:30:...|          40|    NYSE|  null|    null|  null|    null|  161.48|   159.442|\n",
      "|2020-08-06|       T|  SYMC|2020-08-06 09:30:...|         100|    NYSE|  null|    null|  null|    null|  159.38|   159.442|\n",
      "|2020-08-06|       T|  SYMC|2020-08-06 09:30:...|          10|    NYSE|  null|    null|  null|    null|  157.27|   159.442|\n",
      "|2020-08-06|       T|  SYMC|2020-08-06 09:30:...|          60|    NYSE|  null|    null|  null|    null|  161.57|   159.442|\n",
      "|2020-08-06|       T|  SYMC|2020-08-06 09:30:...|          70|    NYSE|  null|    null|  null|    null|  161.37|   159.442|\n",
      "|2020-08-06|       T|  SYMC|2020-08-06 09:30:...|          90|    NYSE|  null|    null|  null|    null|  157.63|   159.442|\n",
      "|2020-08-06|       T|  SYMC|2020-08-06 09:30:...|          80|    NYSE|  null|    null|  null|    null|  159.15|   159.442|\n",
      "|2020-08-06|       T|  SYMC|2020-08-06 09:30:...|          50|    NYSE|  null|    null|  null|    null|  158.36|   159.442|\n",
      "|2020-08-06|       T|  SYMC|2020-08-06 09:30:...|          20|    NYSE|  null|    null|  null|    null|  160.15|   159.442|\n",
      "+----------+--------+------+--------------------+------------+--------+------+--------+------+--------+--------+----------+\n",
      "only showing top 20 rows"
     ]
    }
   ],
   "source": [
    "# Quote Union Test 2\n",
    "\n",
    "test_quote_union_df2 = spark.sql(\"\"\"SELECT trade_dt,\"T\" as rec_type,symbol,event_tm,event_seq_nb,exchange,null as bid_pr,null as bid_size,null as ask_pr,\n",
    "null as ask_size,trade_pr,mov_avg_pr FROM temp_trade_moving_avg\"\"\")\n",
    "test_quote_union_df2.show()"
   ]
  },
  {
   "cell_type": "code",
   "execution_count": 14,
   "id": "b7bfb1e4",
   "metadata": {},
   "outputs": [
    {
     "data": {
      "application/vnd.jupyter.widget-view+json": {
       "model_id": "53ec7567db4c4609b5a28d19c4be1099",
       "version_major": 2,
       "version_minor": 0
      },
      "text/plain": [
       "VBox()"
      ]
     },
     "metadata": {},
     "output_type": "display_data"
    },
    {
     "data": {
      "application/vnd.jupyter.widget-view+json": {
       "model_id": "",
       "version_major": 2,
       "version_minor": 0
      },
      "text/plain": [
       "FloatProgress(value=0.0, bar_style='info', description='Progress:', layout=Layout(height='25px', width='50%'),…"
      ]
     },
     "metadata": {},
     "output_type": "display_data"
    },
    {
     "name": "stdout",
     "output_type": "stream",
     "text": [
      "+----------+--------+------+--------------------+------------+--------+------+--------+------+--------+--------+-----------------+\n",
      "|  trade_dt|rec_type|symbol|            event_tm|event_seq_nb|exchange|bid_pr|bid_size|ask_pr|ask_size|trade_pr|       mov_avg_pr|\n",
      "+----------+--------+------+--------------------+------------+--------+------+--------+------+--------+--------+-----------------+\n",
      "|2020-08-06|       T|  SYMA|2020-08-06 09:30:...|          30|    NYSE|  null|    null|  null|    null|    76.9|76.61399999999999|\n",
      "|2020-08-06|       T|  SYMA|2020-08-06 09:30:...|          10|    NYSE|  null|    null|  null|    null|   74.49|76.61399999999999|\n",
      "|2020-08-06|       T|  SYMA|2020-08-06 09:30:...|         100|    NYSE|  null|    null|  null|    null|   76.31|76.61399999999999|\n",
      "|2020-08-06|       T|  SYMA|2020-08-06 09:30:...|          90|    NYSE|  null|    null|  null|    null|   75.71|76.61399999999999|\n",
      "|2020-08-06|       T|  SYMA|2020-08-06 09:30:...|          40|    NYSE|  null|    null|  null|    null|   77.12|76.61399999999999|\n",
      "|2020-08-06|       T|  SYMA|2020-08-06 09:30:...|          70|    NYSE|  null|    null|  null|    null|   78.23|76.61399999999999|\n",
      "|2020-08-06|       T|  SYMA|2020-08-06 09:30:...|          20|    NYSE|  null|    null|  null|    null|   76.16|76.61399999999999|\n",
      "|2020-08-06|       T|  SYMA|2020-08-06 09:30:...|          50|    NYSE|  null|    null|  null|    null|   76.37|76.61399999999999|\n",
      "|2020-08-06|       T|  SYMA|2020-08-06 09:30:...|          60|    NYSE|  null|    null|  null|    null|   78.32|76.61399999999999|\n",
      "|2020-08-06|       T|  SYMA|2020-08-06 09:30:...|          80|    NYSE|  null|    null|  null|    null|   76.53|76.61399999999999|\n",
      "|2020-08-06|       T|  SYMC|2020-08-06 09:30:...|          30|    NYSE|  null|    null|  null|    null|  158.06|          159.442|\n",
      "|2020-08-06|       T|  SYMC|2020-08-06 09:30:...|         100|    NYSE|  null|    null|  null|    null|  159.38|          159.442|\n",
      "|2020-08-06|       T|  SYMC|2020-08-06 09:30:...|          10|    NYSE|  null|    null|  null|    null|  157.27|          159.442|\n",
      "|2020-08-06|       T|  SYMC|2020-08-06 09:30:...|          60|    NYSE|  null|    null|  null|    null|  161.57|          159.442|\n",
      "|2020-08-06|       T|  SYMC|2020-08-06 09:30:...|          90|    NYSE|  null|    null|  null|    null|  157.63|          159.442|\n",
      "|2020-08-06|       T|  SYMC|2020-08-06 09:30:...|          40|    NYSE|  null|    null|  null|    null|  161.48|          159.442|\n",
      "|2020-08-06|       T|  SYMC|2020-08-06 09:30:...|          70|    NYSE|  null|    null|  null|    null|  161.37|          159.442|\n",
      "|2020-08-06|       T|  SYMC|2020-08-06 09:30:...|          80|    NYSE|  null|    null|  null|    null|  159.15|          159.442|\n",
      "|2020-08-06|       T|  SYMC|2020-08-06 09:30:...|          50|    NYSE|  null|    null|  null|    null|  158.36|          159.442|\n",
      "|2020-08-06|       T|  SYMC|2020-08-06 09:30:...|          20|    NYSE|  null|    null|  null|    null|  160.15|          159.442|\n",
      "+----------+--------+------+--------------------+------------+--------+------+--------+------+--------+--------+-----------------+\n",
      "only showing top 20 rows"
     ]
    }
   ],
   "source": [
    "# One more time union test\n",
    "test_quote_union_df3 = spark.sql(\"\"\"\n",
    "SELECT trade_dt,\"T\" as rec_type,symbol,event_tm,event_seq_nb,exchange,null as bid_pr,null as bid_size,null as ask_pr,\n",
    "null as ask_size,trade_pr,mov_avg_pr FROM temp_trade_moving_avg\n",
    "UNION ALL\n",
    "SELECT trade_dt,rec_type,symbol,event_tm,event_seq_nb,exchange,bid_pr,bid_size,ask_pr,\n",
    "ask_size,null as trade_pr,null as mov_avg_pr FROM quotes\n",
    "\"\"\")\n",
    "test_quote_union_df3.show()"
   ]
  },
  {
   "cell_type": "code",
   "execution_count": null,
   "id": "614e44a9",
   "metadata": {},
   "outputs": [],
   "source": [
    "# test_quote_union_df3.select(\"trade_pr\").distinct().collect()"
   ]
  },
  {
   "cell_type": "code",
   "execution_count": 16,
   "id": "e76a4095",
   "metadata": {},
   "outputs": [
    {
     "data": {
      "application/vnd.jupyter.widget-view+json": {
       "model_id": "be1437cb2fdc4247b28e7bb1865cce90",
       "version_major": 2,
       "version_minor": 0
      },
      "text/plain": [
       "VBox()"
      ]
     },
     "metadata": {},
     "output_type": "display_data"
    },
    {
     "data": {
      "application/vnd.jupyter.widget-view+json": {
       "model_id": "",
       "version_major": 2,
       "version_minor": 0
      },
      "text/plain": [
       "FloatProgress(value=0.0, bar_style='info', description='Progress:', layout=Layout(height='25px', width='50%'),…"
      ]
     },
     "metadata": {},
     "output_type": "display_data"
    }
   ],
   "source": [
    "# Populate The Latest trade_pr and mov_avg_pr\n",
    "\n",
    "quote_union_update = spark.sql(\"\"\"\n",
    "select *,\n",
    "last_value(trade_pr, true) OVER (PARTITION BY symbol, exchange ORDER BY event_tm ROWS BETWEEN UNBOUNDED PRECEDING AND CURRENT ROW) as last_trade_pr,\n",
    "last_value(mov_avg_pr, true) OVER (PARTITION BY symbol, exchange ORDER BY event_tm ROWS BETWEEN UNBOUNDED PRECEDING AND CURRENT ROW) as last_mov_avg_pr\n",
    "from quote_union\n",
    "\"\"\")\n",
    "\n",
    "quote_union_update.createOrReplaceTempView(\"quote_union_update\")"
   ]
  },
  {
   "cell_type": "code",
   "execution_count": 17,
   "id": "826c892b",
   "metadata": {},
   "outputs": [
    {
     "data": {
      "application/vnd.jupyter.widget-view+json": {
       "model_id": "692d814f62d64d2ca52c49b176e3b15d",
       "version_major": 2,
       "version_minor": 0
      },
      "text/plain": [
       "VBox()"
      ]
     },
     "metadata": {},
     "output_type": "display_data"
    },
    {
     "data": {
      "application/vnd.jupyter.widget-view+json": {
       "model_id": "",
       "version_major": 2,
       "version_minor": 0
      },
      "text/plain": [
       "FloatProgress(value=0.0, bar_style='info', description='Progress:', layout=Layout(height='25px', width='50%'),…"
      ]
     },
     "metadata": {},
     "output_type": "display_data"
    },
    {
     "name": "stdout",
     "output_type": "stream",
     "text": [
      "Row(trade_dt='2020-08-06', rec_type='Q', symbol='SYMB', event_tm='2020-08-06 09:30:00.0', event_seq_nb='4', exchange='NYSE', bid_pr='35.80141900363462', bid_size='100', ask_pr='36.8613695404052', ask_size='100', trade_pr=None, mov_avg_pr=None, last_trade_pr=None, last_mov_avg_pr=None)"
     ]
    }
   ],
   "source": [
    "quote_union_update.head()"
   ]
  },
  {
   "cell_type": "code",
   "execution_count": 18,
   "id": "1765ed37",
   "metadata": {},
   "outputs": [
    {
     "data": {
      "application/vnd.jupyter.widget-view+json": {
       "model_id": "6b03fcf9a13d425baee729aa8332e014",
       "version_major": 2,
       "version_minor": 0
      },
      "text/plain": [
       "VBox()"
      ]
     },
     "metadata": {},
     "output_type": "display_data"
    },
    {
     "data": {
      "application/vnd.jupyter.widget-view+json": {
       "model_id": "",
       "version_major": 2,
       "version_minor": 0
      },
      "text/plain": [
       "FloatProgress(value=0.0, bar_style='info', description='Progress:', layout=Layout(height='25px', width='50%'),…"
      ]
     },
     "metadata": {},
     "output_type": "display_data"
    }
   ],
   "source": [
    "# Filter For Quote Records\n",
    "quote_update = spark.sql(\"\"\"\n",
    "    select trade_dt, symbol, event_tm, event_seq_nb, exchange,\n",
    "    bid_pr, bid_size, ask_pr, ask_size, last_trade_pr, last_mov_avg_pr\n",
    "    from quote_union_update\n",
    "    where rec_type = 'Q'\n",
    "\"\"\")\n",
    "\n",
    "# Create temporary view of data\n",
    "quote_update.createOrReplaceTempView(\"quote_update\")"
   ]
  },
  {
   "cell_type": "code",
   "execution_count": 21,
   "id": "f6a3c904",
   "metadata": {},
   "outputs": [
    {
     "data": {
      "application/vnd.jupyter.widget-view+json": {
       "model_id": "ddd82245218148a88819f622060bb04e",
       "version_major": 2,
       "version_minor": 0
      },
      "text/plain": [
       "VBox()"
      ]
     },
     "metadata": {},
     "output_type": "display_data"
    },
    {
     "data": {
      "application/vnd.jupyter.widget-view+json": {
       "model_id": "",
       "version_major": 2,
       "version_minor": 0
      },
      "text/plain": [
       "FloatProgress(value=0.0, bar_style='info', description='Progress:', layout=Layout(height='25px', width='50%'),…"
      ]
     },
     "metadata": {},
     "output_type": "display_data"
    },
    {
     "name": "stdout",
     "output_type": "stream",
     "text": [
      "Row(trade_dt='2020-08-06', symbol='SYMC', event_tm='2020-08-06 09:30:00.0', event_seq_nb='30', exchange='NYSE', bid_pr=None, bid_size=None, ask_pr=None, ask_size=None, last_trade_pr=158.06, last_mov_avg_pr=159.442)"
     ]
    }
   ],
   "source": [
    "# Try subquery\n",
    "\n",
    "# test_quote_data = spark.sql(\"\"\"\n",
    "#     select q.trade_dt, q.symbol, q.event_tm, q.event_seq_nb, q.exchange,\n",
    "#     q.bid_pr, q.bid_size, q.ask_pr, q.ask_size, last_trade_pr, last_mov_avg_pr\n",
    "#     from quote_union_update q\n",
    "#     RIGHT JOIN\n",
    "\n",
    "#     (select trade_dt, symbol, event_tm, event_seq_nb, exchange,\n",
    "#     bid_pr, bid_size, ask_pr, ask_size, last_trade_pr, last_mov_avg_pr\n",
    "#     from quote_union_update\n",
    "#     where rec_type = 'T' and symbol = \"SYMC\"\n",
    "# \"\"\")\n",
    "# test_quote_data.head()"
   ]
  },
  {
   "cell_type": "code",
   "execution_count": 19,
   "id": "e2de6ca6",
   "metadata": {},
   "outputs": [
    {
     "data": {
      "application/vnd.jupyter.widget-view+json": {
       "model_id": "f45666ef5b324bb18ada374d8387e78a",
       "version_major": 2,
       "version_minor": 0
      },
      "text/plain": [
       "VBox()"
      ]
     },
     "metadata": {},
     "output_type": "display_data"
    },
    {
     "data": {
      "application/vnd.jupyter.widget-view+json": {
       "model_id": "",
       "version_major": 2,
       "version_minor": 0
      },
      "text/plain": [
       "FloatProgress(value=0.0, bar_style='info', description='Progress:', layout=Layout(height='25px', width='50%'),…"
      ]
     },
     "metadata": {},
     "output_type": "display_data"
    },
    {
     "name": "stdout",
     "output_type": "stream",
     "text": [
      "Row(trade_dt='2020-08-06', symbol='SYMB', event_tm='2020-08-06 09:30:00.0', event_seq_nb='68', exchange='NYSE', bid_pr='35.805793618254164', bid_size='100', ask_pr='36.16367101821172', ask_size='100', last_trade_pr=None, last_mov_avg_pr=None)"
     ]
    }
   ],
   "source": [
    "quote_update.head()"
   ]
  },
  {
   "cell_type": "markdown",
   "id": "d5c15016",
   "metadata": {},
   "source": [
    "# Maybe, it shows null for trade_pr for first 20 rows because we are partitioning by symbol?"
   ]
  },
  {
   "cell_type": "code",
   "execution_count": 23,
   "id": "59018f49",
   "metadata": {},
   "outputs": [
    {
     "data": {
      "application/vnd.jupyter.widget-view+json": {
       "model_id": "8f546c4319044091989785f40f8f3969",
       "version_major": 2,
       "version_minor": 0
      },
      "text/plain": [
       "VBox()"
      ]
     },
     "metadata": {},
     "output_type": "display_data"
    },
    {
     "data": {
      "application/vnd.jupyter.widget-view+json": {
       "model_id": "",
       "version_major": 2,
       "version_minor": 0
      },
      "text/plain": [
       "FloatProgress(value=0.0, bar_style='info', description='Progress:', layout=Layout(height='25px', width='50%'),…"
      ]
     },
     "metadata": {},
     "output_type": "display_data"
    },
    {
     "name": "stdout",
     "output_type": "stream",
     "text": [
      "+----------+------+--------------------+------------+--------+------------------+--------+-----------------+--------+-------------+---------------+--------------------+-------------------+\n",
      "|  trade_dt|symbol|            event_tm|event_seq_nb|exchange|            bid_pr|bid_size|           ask_pr|ask_size|last_trade_pr|last_mov_avg_pr|           bid_pr_mv|          ask_pr_mv|\n",
      "+----------+------+--------------------+------------+--------+------------------+--------+-----------------+--------+-------------+---------------+--------------------+-------------------+\n",
      "|2020-08-06|  SYMB|2020-08-06 09:30:...|          24|    NYSE|33.072382405139976|     100|34.09166855576172|     100|         null|           null| -0.8216175948600224|0.19766855576172304|\n",
      "|2020-08-06|  SYMB|2020-08-06 09:30:...|          24|    NYSE|33.072382405139976|     100|34.09166855576172|     100|         null|           null| -0.8216175948600224|0.19766855576172304|\n",
      "|2020-08-06|  SYMB|2020-08-06 09:30:...|          24|    NYSE|33.072382405139976|     100|34.09166855576172|     100|         null|           null| -0.8216175948600224|0.19766855576172304|\n",
      "|2020-08-06|  SYMB|2020-08-06 09:30:...|          24|    NYSE|33.072382405139976|     100|34.09166855576172|     100|         null|           null| -0.8216175948600224|0.19766855576172304|\n",
      "|2020-08-06|  SYMB|2020-08-06 09:30:...|          24|    NYSE|33.072382405139976|     100|34.09166855576172|     100|         null|           null| -0.8216175948600224|0.19766855576172304|\n",
      "|2020-08-06|  SYMB|2020-08-06 09:30:...|          24|    NYSE|33.072382405139976|     100|34.09166855576172|     100|         null|           null| -0.8216175948600224|0.19766855576172304|\n",
      "|2020-08-06|  SYMB|2020-08-06 09:30:...|          24|    NYSE|33.072382405139976|     100|34.09166855576172|     100|         null|           null| -0.8216175948600224|0.19766855576172304|\n",
      "|2020-08-06|  SYMB|2020-08-06 09:30:...|          24|    NYSE|33.072382405139976|     100|34.09166855576172|     100|         null|           null| -0.8216175948600224|0.19766855576172304|\n",
      "|2020-08-06|  SYMB|2020-08-06 09:30:...|          24|    NYSE|33.072382405139976|     100|34.09166855576172|     100|         null|           null| -0.8216175948600224|0.19766855576172304|\n",
      "|2020-08-06|  SYMB|2020-08-06 09:30:...|          24|    NYSE|33.072382405139976|     100|34.09166855576172|     100|         null|           null| -0.8216175948600224|0.19766855576172304|\n",
      "|2020-08-06|  SYMB|2020-08-06 09:30:...|          15|    NYSE|33.913494537278986|     100|35.82888723434745|     100|         null|           null|0.019494537278987423| 1.9348872343474497|\n",
      "|2020-08-06|  SYMB|2020-08-06 09:30:...|          15|    NYSE|33.913494537278986|     100|35.82888723434745|     100|         null|           null|0.019494537278987423| 1.9348872343474497|\n",
      "|2020-08-06|  SYMB|2020-08-06 09:30:...|          15|    NYSE|33.913494537278986|     100|35.82888723434745|     100|         null|           null|0.019494537278987423| 1.9348872343474497|\n",
      "|2020-08-06|  SYMB|2020-08-06 09:30:...|          15|    NYSE|33.913494537278986|     100|35.82888723434745|     100|         null|           null|0.019494537278987423| 1.9348872343474497|\n",
      "|2020-08-06|  SYMB|2020-08-06 09:30:...|          15|    NYSE|33.913494537278986|     100|35.82888723434745|     100|         null|           null|0.019494537278987423| 1.9348872343474497|\n",
      "|2020-08-06|  SYMB|2020-08-06 09:30:...|          15|    NYSE|33.913494537278986|     100|35.82888723434745|     100|         null|           null|0.019494537278987423| 1.9348872343474497|\n",
      "|2020-08-06|  SYMB|2020-08-06 09:30:...|          15|    NYSE|33.913494537278986|     100|35.82888723434745|     100|         null|           null|0.019494537278987423| 1.9348872343474497|\n",
      "|2020-08-06|  SYMB|2020-08-06 09:30:...|          15|    NYSE|33.913494537278986|     100|35.82888723434745|     100|         null|           null|0.019494537278987423| 1.9348872343474497|\n",
      "|2020-08-06|  SYMB|2020-08-06 09:30:...|          15|    NYSE|33.913494537278986|     100|35.82888723434745|     100|         null|           null|0.019494537278987423| 1.9348872343474497|\n",
      "|2020-08-06|  SYMB|2020-08-06 09:30:...|          15|    NYSE|33.913494537278986|     100|35.82888723434745|     100|         null|           null|0.019494537278987423| 1.9348872343474497|\n",
      "+----------+------+--------------------+------------+--------+------------------+--------+-----------------+--------+-------------+---------------+--------------------+-------------------+\n",
      "only showing top 20 rows"
     ]
    }
   ],
   "source": [
    "# Apply broadcast join --> May need to apply data type casting to bid_pr, ..., ask_size, etc.\n",
    "quote_final = spark.sql(\"\"\"\n",
    "    select trade_dt, symbol, event_tm, event_seq_nb, exchange,\n",
    "    bid_pr, bid_size, ask_pr, ask_size, last_trade_pr, last_mov_avg_pr,\n",
    "    bid_pr - close_pr as bid_pr_mv,\n",
    "    ask_pr - close_pr as ask_pr_mv\n",
    "    from (\n",
    "    \n",
    "    select /* + BROADCAST(t) */\n",
    "    q.trade_dt, q.symbol, q.event_tm, q.event_seq_nb, q.exchange,\n",
    "    q.bid_pr, q.bid_size, q.ask_pr, q.ask_size, q.last_trade_pr,\n",
    "    q.last_mov_avg_pr,\n",
    "    t.last_pr as close_pr\n",
    "    from quote_update q\n",
    "    left outer join temp_last_trade t on\n",
    "    (q.symbol = t.symbol and q.exchange = t.exchange))\n",
    "\"\"\")\n",
    "\n",
    "# Show us the data so we can pick which trade_date to use\n",
    "quote_final.show()"
   ]
  },
  {
   "cell_type": "code",
   "execution_count": 26,
   "id": "ff6a6240",
   "metadata": {},
   "outputs": [
    {
     "data": {
      "application/vnd.jupyter.widget-view+json": {
       "model_id": "cc51011aff0c44cebcb1b2b0ff44b557",
       "version_major": 2,
       "version_minor": 0
      },
      "text/plain": [
       "VBox()"
      ]
     },
     "metadata": {},
     "output_type": "display_data"
    },
    {
     "data": {
      "application/vnd.jupyter.widget-view+json": {
       "model_id": "",
       "version_major": 2,
       "version_minor": 0
      },
      "text/plain": [
       "FloatProgress(value=0.0, bar_style='info', description='Progress:', layout=Layout(height='25px', width='50%'),…"
      ]
     },
     "metadata": {},
     "output_type": "display_data"
    }
   ],
   "source": [
    "# Write The Final DF Into Azure Blob Storage At Corresponding Partition\n",
    "trade_date = \"2020-08-06\"\n",
    "quote_final.write.mode(\"overwrite\").parquet(f\"s3://guidedcapstonebucket2/e-KLOB2DYT8G9BGL5F8PJ9LXKJ/Ingested_CSV_Files/All_Ingested_CSV_Files_2/quote-trade-analytical/trade_dt={trade_date}\")"
   ]
  },
  {
   "cell_type": "code",
   "execution_count": 27,
   "id": "832e4337",
   "metadata": {},
   "outputs": [
    {
     "data": {
      "application/vnd.jupyter.widget-view+json": {
       "model_id": "91a8c2c508ba489daffdee63037826e0",
       "version_major": 2,
       "version_minor": 0
      },
      "text/plain": [
       "VBox()"
      ]
     },
     "metadata": {},
     "output_type": "display_data"
    },
    {
     "data": {
      "application/vnd.jupyter.widget-view+json": {
       "model_id": "",
       "version_major": 2,
       "version_minor": 0
      },
      "text/plain": [
       "FloatProgress(value=0.0, bar_style='info', description='Progress:', layout=Layout(height='25px', width='50%'),…"
      ]
     },
     "metadata": {},
     "output_type": "display_data"
    }
   ],
   "source": [
    "# Stop Spark Cluster\n",
    "sc.stop()"
   ]
  },
  {
   "cell_type": "markdown",
   "id": "c10af452",
   "metadata": {},
   "source": [
    "# Congrats! We are now almost finished with our Guided Capstone."
   ]
  },
  {
   "cell_type": "markdown",
   "id": "81c1fd66",
   "metadata": {},
   "source": [
    "### Step 5 will include automating our data pipeline from end-to-end while using bash scripting.\n",
    "### Check S3 bucket to ensure we have the correct files."
   ]
  }
 ],
 "metadata": {
  "kernelspec": {
   "display_name": "PySpark",
   "language": "",
   "name": "pysparkkernel"
  },
  "language_info": {
   "codemirror_mode": {
    "name": "python",
    "version": 3
   },
   "mimetype": "text/x-python",
   "name": "pyspark",
   "pygments_lexer": "python3"
  }
 },
 "nbformat": 4,
 "nbformat_minor": 5
}
